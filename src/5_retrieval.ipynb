{
 "cells": [
  {
   "cell_type": "code",
   "execution_count": 14,
   "metadata": {},
   "outputs": [],
   "source": [
    "import chromadb"
   ]
  },
  {
   "cell_type": "code",
   "execution_count": 15,
   "metadata": {},
   "outputs": [
    {
     "ename": "InvalidCollectionException",
     "evalue": "Collection devday-rag does not exist.",
     "output_type": "error",
     "traceback": [
      "\u001b[0;31m---------------------------------------------------------------------------\u001b[0m",
      "\u001b[0;31mInvalidCollectionException\u001b[0m                Traceback (most recent call last)",
      "Cell \u001b[0;32mIn[15], line 4\u001b[0m\n\u001b[1;32m      1\u001b[0m COLLECTION_NAME \u001b[38;5;241m=\u001b[39m \u001b[38;5;124m\"\u001b[39m\u001b[38;5;124mdevday-rag\u001b[39m\u001b[38;5;124m\"\u001b[39m\n\u001b[1;32m      3\u001b[0m client \u001b[38;5;241m=\u001b[39m chromadb\u001b[38;5;241m.\u001b[39mPersistentClient()\n\u001b[0;32m----> 4\u001b[0m collection \u001b[38;5;241m=\u001b[39m \u001b[43mclient\u001b[49m\u001b[38;5;241;43m.\u001b[39;49m\u001b[43mget_collection\u001b[49m\u001b[43m(\u001b[49m\u001b[43mCOLLECTION_NAME\u001b[49m\u001b[43m)\u001b[49m\n",
      "File \u001b[0;32m~/Library/Caches/pypoetry/virtualenvs/devday-user-Mow9uqej-py3.12/lib/python3.12/site-packages/chromadb/api/client.py:171\u001b[0m, in \u001b[0;36mClient.get_collection\u001b[0;34m(self, name, embedding_function, data_loader)\u001b[0m\n\u001b[1;32m    162\u001b[0m \u001b[38;5;129m@override\u001b[39m\n\u001b[1;32m    163\u001b[0m \u001b[38;5;28;01mdef\u001b[39;00m \u001b[38;5;21mget_collection\u001b[39m(\n\u001b[1;32m    164\u001b[0m     \u001b[38;5;28mself\u001b[39m,\n\u001b[0;32m   (...)\u001b[0m\n\u001b[1;32m    169\u001b[0m     data_loader: Optional[DataLoader[Loadable]] \u001b[38;5;241m=\u001b[39m \u001b[38;5;28;01mNone\u001b[39;00m,\n\u001b[1;32m    170\u001b[0m ) \u001b[38;5;241m-\u001b[39m\u001b[38;5;241m>\u001b[39m Collection:\n\u001b[0;32m--> 171\u001b[0m     model \u001b[38;5;241m=\u001b[39m \u001b[38;5;28;43mself\u001b[39;49m\u001b[38;5;241;43m.\u001b[39;49m\u001b[43m_server\u001b[49m\u001b[38;5;241;43m.\u001b[39;49m\u001b[43mget_collection\u001b[49m\u001b[43m(\u001b[49m\n\u001b[1;32m    172\u001b[0m \u001b[43m        \u001b[49m\u001b[43mname\u001b[49m\u001b[38;5;241;43m=\u001b[39;49m\u001b[43mname\u001b[49m\u001b[43m,\u001b[49m\n\u001b[1;32m    173\u001b[0m \u001b[43m        \u001b[49m\u001b[43mtenant\u001b[49m\u001b[38;5;241;43m=\u001b[39;49m\u001b[38;5;28;43mself\u001b[39;49m\u001b[38;5;241;43m.\u001b[39;49m\u001b[43mtenant\u001b[49m\u001b[43m,\u001b[49m\n\u001b[1;32m    174\u001b[0m \u001b[43m        \u001b[49m\u001b[43mdatabase\u001b[49m\u001b[38;5;241;43m=\u001b[39;49m\u001b[38;5;28;43mself\u001b[39;49m\u001b[38;5;241;43m.\u001b[39;49m\u001b[43mdatabase\u001b[49m\u001b[43m,\u001b[49m\n\u001b[1;32m    175\u001b[0m \u001b[43m    \u001b[49m\u001b[43m)\u001b[49m\n\u001b[1;32m    176\u001b[0m     \u001b[38;5;28;01mreturn\u001b[39;00m Collection(\n\u001b[1;32m    177\u001b[0m         client\u001b[38;5;241m=\u001b[39m\u001b[38;5;28mself\u001b[39m\u001b[38;5;241m.\u001b[39m_server,\n\u001b[1;32m    178\u001b[0m         model\u001b[38;5;241m=\u001b[39mmodel,\n\u001b[1;32m    179\u001b[0m         embedding_function\u001b[38;5;241m=\u001b[39membedding_function,\n\u001b[1;32m    180\u001b[0m         data_loader\u001b[38;5;241m=\u001b[39mdata_loader,\n\u001b[1;32m    181\u001b[0m     )\n",
      "File \u001b[0;32m~/Library/Caches/pypoetry/virtualenvs/devday-user-Mow9uqej-py3.12/lib/python3.12/site-packages/chromadb/telemetry/opentelemetry/__init__.py:144\u001b[0m, in \u001b[0;36mtrace_method.<locals>.decorator.<locals>.wrapper\u001b[0;34m(*args, **kwargs)\u001b[0m\n\u001b[1;32m    142\u001b[0m \u001b[38;5;28;01mglobal\u001b[39;00m tracer, granularity\n\u001b[1;32m    143\u001b[0m \u001b[38;5;28;01mif\u001b[39;00m trace_granularity \u001b[38;5;241m<\u001b[39m granularity:\n\u001b[0;32m--> 144\u001b[0m     \u001b[38;5;28;01mreturn\u001b[39;00m \u001b[43mf\u001b[49m\u001b[43m(\u001b[49m\u001b[38;5;241;43m*\u001b[39;49m\u001b[43margs\u001b[49m\u001b[43m,\u001b[49m\u001b[43m \u001b[49m\u001b[38;5;241;43m*\u001b[39;49m\u001b[38;5;241;43m*\u001b[39;49m\u001b[43mkwargs\u001b[49m\u001b[43m)\u001b[49m\n\u001b[1;32m    145\u001b[0m \u001b[38;5;28;01mif\u001b[39;00m \u001b[38;5;129;01mnot\u001b[39;00m tracer:\n\u001b[1;32m    146\u001b[0m     \u001b[38;5;28;01mreturn\u001b[39;00m f(\u001b[38;5;241m*\u001b[39margs, \u001b[38;5;241m*\u001b[39m\u001b[38;5;241m*\u001b[39mkwargs)\n",
      "File \u001b[0;32m~/Library/Caches/pypoetry/virtualenvs/devday-user-Mow9uqej-py3.12/lib/python3.12/site-packages/chromadb/api/segment.py:103\u001b[0m, in \u001b[0;36mrate_limit.<locals>.wrapper\u001b[0;34m(*args, **kwargs)\u001b[0m\n\u001b[1;32m    100\u001b[0m \u001b[38;5;129m@wraps\u001b[39m(func)\n\u001b[1;32m    101\u001b[0m \u001b[38;5;28;01mdef\u001b[39;00m \u001b[38;5;21mwrapper\u001b[39m(\u001b[38;5;241m*\u001b[39margs: Any, \u001b[38;5;241m*\u001b[39m\u001b[38;5;241m*\u001b[39mkwargs: Any) \u001b[38;5;241m-\u001b[39m\u001b[38;5;241m>\u001b[39m Any:\n\u001b[1;32m    102\u001b[0m     \u001b[38;5;28mself\u001b[39m \u001b[38;5;241m=\u001b[39m args[\u001b[38;5;241m0\u001b[39m]\n\u001b[0;32m--> 103\u001b[0m     \u001b[38;5;28;01mreturn\u001b[39;00m \u001b[38;5;28;43mself\u001b[39;49m\u001b[38;5;241;43m.\u001b[39;49m\u001b[43m_rate_limit_enforcer\u001b[49m\u001b[38;5;241;43m.\u001b[39;49m\u001b[43mrate_limit\u001b[49m\u001b[43m(\u001b[49m\u001b[43mfunc\u001b[49m\u001b[43m)\u001b[49m\u001b[43m(\u001b[49m\u001b[38;5;241;43m*\u001b[39;49m\u001b[43margs\u001b[49m\u001b[43m,\u001b[49m\u001b[43m \u001b[49m\u001b[38;5;241;43m*\u001b[39;49m\u001b[38;5;241;43m*\u001b[39;49m\u001b[43mkwargs\u001b[49m\u001b[43m)\u001b[49m\n",
      "File \u001b[0;32m~/Library/Caches/pypoetry/virtualenvs/devday-user-Mow9uqej-py3.12/lib/python3.12/site-packages/chromadb/rate_limit/simple_rate_limit/__init__.py:23\u001b[0m, in \u001b[0;36mSimpleRateLimitEnforcer.rate_limit.<locals>.wrapper\u001b[0;34m(*args, **kwargs)\u001b[0m\n\u001b[1;32m     21\u001b[0m \u001b[38;5;129m@wraps\u001b[39m(func)\n\u001b[1;32m     22\u001b[0m \u001b[38;5;28;01mdef\u001b[39;00m \u001b[38;5;21mwrapper\u001b[39m(\u001b[38;5;241m*\u001b[39margs: Any, \u001b[38;5;241m*\u001b[39m\u001b[38;5;241m*\u001b[39mkwargs: Any) \u001b[38;5;241m-\u001b[39m\u001b[38;5;241m>\u001b[39m Any:\n\u001b[0;32m---> 23\u001b[0m     \u001b[38;5;28;01mreturn\u001b[39;00m \u001b[43mfunc\u001b[49m\u001b[43m(\u001b[49m\u001b[38;5;241;43m*\u001b[39;49m\u001b[43margs\u001b[49m\u001b[43m,\u001b[49m\u001b[43m \u001b[49m\u001b[38;5;241;43m*\u001b[39;49m\u001b[38;5;241;43m*\u001b[39;49m\u001b[43mkwargs\u001b[49m\u001b[43m)\u001b[49m\n",
      "File \u001b[0;32m~/Library/Caches/pypoetry/virtualenvs/devday-user-Mow9uqej-py3.12/lib/python3.12/site-packages/chromadb/api/segment.py:286\u001b[0m, in \u001b[0;36mSegmentAPI.get_collection\u001b[0;34m(self, name, tenant, database)\u001b[0m\n\u001b[1;32m    284\u001b[0m     \u001b[38;5;28;01mreturn\u001b[39;00m existing[\u001b[38;5;241m0\u001b[39m]\n\u001b[1;32m    285\u001b[0m \u001b[38;5;28;01melse\u001b[39;00m:\n\u001b[0;32m--> 286\u001b[0m     \u001b[38;5;28;01mraise\u001b[39;00m InvalidCollectionException(\u001b[38;5;124mf\u001b[39m\u001b[38;5;124m\"\u001b[39m\u001b[38;5;124mCollection \u001b[39m\u001b[38;5;132;01m{\u001b[39;00mname\u001b[38;5;132;01m}\u001b[39;00m\u001b[38;5;124m does not exist.\u001b[39m\u001b[38;5;124m\"\u001b[39m)\n",
      "\u001b[0;31mInvalidCollectionException\u001b[0m: Collection devday-rag does not exist."
     ]
    }
   ],
   "source": [
    "COLLECTION_NAME = \"devday-rag\"\n",
    "\n",
    "client = chromadb.PersistentClient()\n",
    "collection = client.get_collection(COLLECTION_NAME)"
   ]
  },
  {
   "cell_type": "code",
   "execution_count": null,
   "metadata": {},
   "outputs": [
    {
     "data": {
      "text/plain": [
       "776"
      ]
     },
     "execution_count": 9,
     "metadata": {},
     "output_type": "execute_result"
    }
   ],
   "source": [
    "\n",
    "collection.count()"
   ]
  },
  {
   "cell_type": "code",
   "execution_count": null,
   "metadata": {},
   "outputs": [
    {
     "data": {
      "text/plain": [
       "{'ids': [['332', '374', '454', '29', '377', '20', '90', '305', '462', '365']],\n",
       " 'embeddings': None,\n",
       " 'documents': [['**39.3 The procedure detailed in Article 39.2 is based upon twenty (20) cars being officially**\\n\\neligible to take part in the Competition. If twenty-two (22) cars are eligible six (6) will be\\neliminated after Q1 and Q2, if twenty-four (24) cars are eligible seven (7) cars will be\\neliminated after Q1 and Q2, and so on if more cars are eligible.\\n\\n**39.4 Any driver whose car stops on the track during the qualifying practice session will not be**\\n\\npermitted to take any further part in the session.',\n",
       "   'If more than twenty (20) cars are entered in the Championship appropriate\\namendments will be made to the above in accordance with Article 39.2.\\n\\nb) If more than one (1) driver fails to set a time during Q2 or Q3 they will be arranged\\nin the following order:\\n\\ni) Any driver who attempted to set a qualifying time by starting a flying lap.\\n\\nii) Any driver who failed to start a flying lap.\\n\\n\\n-----\\n\\niii) Any driver who failed to leave the pits during the period.',\n",
       "   'd) Whilst a car is stationary in the pit lane as a result of incurring a time penalty in\\naccordance with Article 54.3d) above it may not be worked on. However, if the\\nengine stops any work necessary to re-start it may be carried out after the time\\npenalty period has elapsed. If the Competitor is unable to start the engine the car\\nmay then only be worked on in the driver’s garage.\\n\\ne) Any breach or failure to comply with Articles 54.4b), 54.4c) or 54.4d) may result in\\nthe car being disqualified.\\n\\n\\n-----',\n",
       "   '**5.8** A Competition which is cancelled with less than three months’ written notice to the FIA\\nwill not be considered for inclusion in the following year’s Championship unless the FIA\\njudges the cancellation to have been due to force majeure.\\n\\n**5.9** A Competition may be cancelled if fewer than twelve (12) cars are available for it.\\n\\n**6)** **WORLD CHAMPIONSHIP**',\n",
       "   'e) Any driver who incurs a penalty in accordance with Article 28.3 or Article 29 will\\ntake precedence over any driver whose qualifying practice times have been\\ndeleted for any reason.\\n\\nIf more than one (1) driver falls into a single category in Article 42.3b) or Article 42.3e)\\nabove they will be arranged on the grid in the order they were classified in the previous\\nperiod of the qualifying practice session or, in the case of Q1, the order they were\\nclassified in P3.',\n",
       "   'Penalty points will remain on a driver’s Super Licence for a period of twelve (12) months\\nafter which they will be respectively removed on the twelve (12) month anniversary of\\ntheir imposition.\\n\\n**5)** **CHAMPIONSHIP COMPETITIONS**\\n\\n**5.1** Competitions are reserved for Formula One cars as defined in the Technical\\nRegulations.\\n\\n**5.2** Each Competition will have the status of an international restricted competition.\\n\\n**5.3** A sprint session will take place at up to six three (6 3) Competitions.',\n",
       "   'iii) If a Competitor, having declared the driver’s substitution and performed the\\ntest, does not then enter a Competition with the new driver, the Competitor\\nwill be penalised by a reduction of one (1) day from the pre-season TCC days\\navailable in the following year.\\n\\niv) Only one (1) car may be used.\\n\\n**10.9 TMC Opportunities**\\n\\na) TMC’s are limited to the opportunities detailed in this Article 10.9.',\n",
       "   'b) Any driver who fails to stop when asked to do so, and then fails to bring the car\\nback to the FIA garage, or if work is carried out on the car before it is returned to\\nthe FIA garage, will be referred to the stewards.\\n\\nc) Each driver must be weighed by the Technical Delegate at the end of the last part\\nof the qualifying practice session in which they participated.',\n",
       "   'The stewards may impose either of the penalties under Article 54.3a), 54.3b), 54.3c) or\\n54.3d) on any driver who fails to stay above the minimum time as required by the above.\\n\\n**55.8** With the exception of the cases listed under a) to h) below, no driver may overtake\\n\\nanother car on the track, including the safety car, until he passes the Line (see Article\\n5.3) for the first time after the safety car has returned to the pits.\\n\\nThe exceptions are:',\n",
       "   'f) Any driver who incurs a penalty under Article 28.3 or Article 29 will take precedence\\nover any driver whose qualifying practice times have been deleted for any reason.\\n\\nIf more than one driver falls into a single category in Articles 41.4b) or 41.4e) above they\\nwill be arranged on the grid in the order they were classified in the sprint session or, in\\nthe order they were classified in the qualifying practice session.\\n\\n\\n-----']],\n",
       " 'uris': None,\n",
       " 'data': None,\n",
       " 'metadatas': [[None, None, None, None, None, None, None, None, None, None]],\n",
       " 'distances': [[0.4337071180343628,\n",
       "   0.43414872884750366,\n",
       "   0.45282793045043945,\n",
       "   0.4927651286125183,\n",
       "   0.5056077837944031,\n",
       "   0.5100592374801636,\n",
       "   0.5159372091293335,\n",
       "   0.5188632011413574,\n",
       "   0.5213943719863892,\n",
       "   0.5228267908096313]],\n",
       " 'included': [<IncludeEnum.distances: 'distances'>,\n",
       "  <IncludeEnum.documents: 'documents'>,\n",
       "  <IncludeEnum.metadatas: 'metadatas'>]}"
      ]
     },
     "execution_count": 10,
     "metadata": {},
     "output_type": "execute_result"
    }
   ],
   "source": [
    "question = \"When can a car be disqualified ?\"\n",
    "results = collection.query(query_texts=[question])\n",
    "results"
   ]
  },
  {
   "cell_type": "code",
   "execution_count": null,
   "metadata": {},
   "outputs": [
    {
     "name": "stdout",
     "output_type": "stream",
     "text": [
      "**39.3 The procedure detailed in Article 39.2 is based upon twenty (20) cars being officially**\n",
      "\n",
      "eligible to take part in the Competition. If twenty-two (22) cars are eligible six (6) will be\n",
      "eliminated after Q1 and Q2, if twenty-four (24) cars are eligible seven (7) cars will be\n",
      "eliminated after Q1 and Q2, and so on if more cars are eligible.\n",
      "\n",
      "**39.4 Any driver whose car stops on the track during the qualifying practice session will not be**\n",
      "\n",
      "permitted to take any further part in the session.\n",
      "If more than twenty (20) cars are entered in the Championship appropriate\n",
      "amendments will be made to the above in accordance with Article 39.2.\n",
      "\n",
      "b) If more than one (1) driver fails to set a time during Q2 or Q3 they will be arranged\n",
      "in the following order:\n",
      "\n",
      "i) Any driver who attempted to set a qualifying time by starting a flying lap.\n",
      "\n",
      "ii) Any driver who failed to start a flying lap.\n",
      "\n",
      "\n",
      "-----\n",
      "\n",
      "iii) Any driver who failed to leave the pits during the period.\n",
      "d) Whilst a car is stationary in the pit lane as a result of incurring a time penalty in\n",
      "accordance with Article 54.3d) above it may not be worked on. However, if the\n",
      "engine stops any work necessary to re-start it may be carried out after the time\n",
      "penalty period has elapsed. If the Competitor is unable to start the engine the car\n",
      "may then only be worked on in the driver’s garage.\n",
      "\n",
      "e) Any breach or failure to comply with Articles 54.4b), 54.4c) or 54.4d) may result in\n",
      "the car being disqualified.\n",
      "\n",
      "\n",
      "-----\n",
      "**5.8** A Competition which is cancelled with less than three months’ written notice to the FIA\n",
      "will not be considered for inclusion in the following year’s Championship unless the FIA\n",
      "judges the cancellation to have been due to force majeure.\n",
      "\n",
      "**5.9** A Competition may be cancelled if fewer than twelve (12) cars are available for it.\n",
      "\n",
      "**6)** **WORLD CHAMPIONSHIP**\n",
      "e) Any driver who incurs a penalty in accordance with Article 28.3 or Article 29 will\n",
      "take precedence over any driver whose qualifying practice times have been\n",
      "deleted for any reason.\n",
      "\n",
      "If more than one (1) driver falls into a single category in Article 42.3b) or Article 42.3e)\n",
      "above they will be arranged on the grid in the order they were classified in the previous\n",
      "period of the qualifying practice session or, in the case of Q1, the order they were\n",
      "classified in P3.\n",
      "Penalty points will remain on a driver’s Super Licence for a period of twelve (12) months\n",
      "after which they will be respectively removed on the twelve (12) month anniversary of\n",
      "their imposition.\n",
      "\n",
      "**5)** **CHAMPIONSHIP COMPETITIONS**\n",
      "\n",
      "**5.1** Competitions are reserved for Formula One cars as defined in the Technical\n",
      "Regulations.\n",
      "\n",
      "**5.2** Each Competition will have the status of an international restricted competition.\n",
      "\n",
      "**5.3** A sprint session will take place at up to six three (6 3) Competitions.\n",
      "iii) If a Competitor, having declared the driver’s substitution and performed the\n",
      "test, does not then enter a Competition with the new driver, the Competitor\n",
      "will be penalised by a reduction of one (1) day from the pre-season TCC days\n",
      "available in the following year.\n",
      "\n",
      "iv) Only one (1) car may be used.\n",
      "\n",
      "**10.9 TMC Opportunities**\n",
      "\n",
      "a) TMC’s are limited to the opportunities detailed in this Article 10.9.\n",
      "b) Any driver who fails to stop when asked to do so, and then fails to bring the car\n",
      "back to the FIA garage, or if work is carried out on the car before it is returned to\n",
      "the FIA garage, will be referred to the stewards.\n",
      "\n",
      "c) Each driver must be weighed by the Technical Delegate at the end of the last part\n",
      "of the qualifying practice session in which they participated.\n",
      "The stewards may impose either of the penalties under Article 54.3a), 54.3b), 54.3c) or\n",
      "54.3d) on any driver who fails to stay above the minimum time as required by the above.\n",
      "\n",
      "**55.8** With the exception of the cases listed under a) to h) below, no driver may overtake\n",
      "\n",
      "another car on the track, including the safety car, until he passes the Line (see Article\n",
      "5.3) for the first time after the safety car has returned to the pits.\n",
      "\n",
      "The exceptions are:\n",
      "f) Any driver who incurs a penalty under Article 28.3 or Article 29 will take precedence\n",
      "over any driver whose qualifying practice times have been deleted for any reason.\n",
      "\n",
      "If more than one driver falls into a single category in Articles 41.4b) or 41.4e) above they\n",
      "will be arranged on the grid in the order they were classified in the sprint session or, in\n",
      "the order they were classified in the qualifying practice session.\n",
      "\n",
      "\n",
      "-----\n"
     ]
    }
   ],
   "source": [
    "context = \"\\n\".join(results['documents'][0])\n",
    "print(context)"
   ]
  }
 ],
 "metadata": {
  "kernelspec": {
   "display_name": "devday-user-Mow9uqej-py3.12",
   "language": "python",
   "name": "python3"
  },
  "language_info": {
   "codemirror_mode": {
    "name": "ipython",
    "version": 3
   },
   "file_extension": ".py",
   "mimetype": "text/x-python",
   "name": "python",
   "nbconvert_exporter": "python",
   "pygments_lexer": "ipython3",
   "version": "3.12.3"
  }
 },
 "nbformat": 4,
 "nbformat_minor": 2
}
