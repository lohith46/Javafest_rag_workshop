{
 "cells": [
  {
   "cell_type": "code",
   "execution_count": 4,
   "metadata": {},
   "outputs": [],
   "source": [
    "import chromadb"
   ]
  },
  {
   "cell_type": "code",
   "execution_count": 6,
   "metadata": {},
   "outputs": [],
   "source": [
    "COLLECTION_NAME = \"devday-rag-cosine\"\n",
    "\n",
    "client = chromadb.PersistentClient()\n",
    "collection = client.get_collection(COLLECTION_NAME)\n",
    "\n",
    "\n",
    "question = \"when is a blue flag seen or used ?\"\n",
    "results = collection.query(query_texts=[question])\n",
    "\n",
    "context = \"\\n\".join(results['documents'][0])\n",
    "\n",
    "prompt_template = \"\"\"\n",
    "Answer the question based on the given context only. If you cannot find the answer in the context, just tell that you don't have an answer.\n",
    "\n",
    "Question: {question}\n",
    "\n",
    "Context:\n",
    "{context}\n",
    "\"\"\"\n",
    "\n",
    "prompt = prompt_template.format(question=question, context=context)"
   ]
  },
  {
   "cell_type": "code",
   "execution_count": 7,
   "metadata": {},
   "outputs": [
    {
     "name": "stdout",
     "output_type": "stream",
     "text": [
      "\n",
      "Answer the question based on the given context only. If you cannot find the answer in the context, just tell that you don't have an answer.\n",
      "\n",
      "Question: when is a blue flag seen or used ?\n",
      "\n",
      "Context:\n",
      "light at the end of the pit lane is green and on their own responsibility. A marshal with a\n",
      "blue flag and/or a flashing blue light, will also warn the driver if cars are approaching on\n",
      "the track.\n",
      "\n",
      "**54)** **INCIDENTS DURING THE SPRINT SESSION OR THE RACE**\n",
      "\n",
      "**54.1 The Race Director may report any on-track incident or suspected breach of these**\n",
      "Cars may only leave the pit lane when the green light is on. Additionally, a blue flag\n",
      "and/or a flashing blue light will be shown in the pit exit to warn drivers leaving the pit lane\n",
      "if cars are approaching on the track.\n",
      "\n",
      "**37.3 Unless written permission has been given by the FIA to do otherwise, the circuit may**\n",
      "DEPLOYED” will be sent to all Competitors via the official messaging system, all FIA\n",
      "light panels will display “SC” and all marshal’s posts will display waved yellow flags and\n",
      "“SC” boards for the duration of the intervention.\n",
      "\n",
      "**55.5 No car may be driven unnecessarily slowly, erratically or in a manner which could be**\n",
      "following procedures shall apply:\n",
      "\n",
      "a) If a car develops a problem that could endanger the start the driver must\n",
      "immediately raise his hands above his head and the marshal responsible for that\n",
      "row must immediately wave a yellow flag and/or activate the yellow grid light panel.\n",
      "\n",
      "\n",
      "-----\n",
      "personnel must leave the fast lane by the time the fifteen (15) second signal is given\n",
      "taking all equipment with them. If any driver needs assistance after the fifteen (15)\n",
      "second signal, he must raise his arm and, when the remainder of the cars able to do so\n",
      "have left the pit lane, marshals will be instructed to push the car into the inner lane. In\n",
      "this case, marshals with yellow flags will stand beside any car concerned to warn drivers\n",
      "As the safety car is approaching the pit entry the SC boards will be withdrawn and, other\n",
      "than on the last lap of the sprint session or the race, as the leader approaches the Line\n",
      "the yellow flags will be withdrawn and a green flag and/or green light panel will be\n",
      "displayed at the Line.\n",
      "\n",
      "**55.15 Each lap completed while the safety car is deployed will be counted as a sprint session**\n",
      "If any driver needs assistance after the fifteen (15) second signal he must raise his arm\n",
      "and, when the remainder of the cars able to do so have left the grid, marshals will be\n",
      "instructed to push the car into the pit lane.\n",
      "\n",
      "In either of the above cases, marshals with yellow flags will stand beside any car (or\n",
      "cars) concerned to warn drivers behind.\n",
      "\n",
      "\n",
      "-----\n",
      "\n",
      "**44.7 When the green lights are illuminated, all cars on the grid should begin the formation lap**\n",
      "\n",
      "with the pole position driver leading.\n",
      "b) If any driver needs assistance after the fifteen (15) second signal he must raise his\n",
      "arm and, when the remainder of the cars able to do so have left the grid, marshals\n",
      "will be instructed to push the car into the pit lane.\n",
      "\n",
      "In either of the above cases, marshals with yellow flags will stand beside any car (or\n",
      "cars) concerned to warn drivers behind.\n",
      "\n",
      "**43.8 When the green lights are illuminated, all cars on the grid should begin the formation lap**\n",
      "\n",
      "with the pole position driver leading.\n",
      "**56)** **VIRTUAL SAFETY CAR (VSC)**\n",
      "\n",
      "**56.1 The VSC procedure may be initiated to neutralise a practice session, sprint session or a**\n",
      "\n",
      "race upon the order of the clerk of the course.\n",
      "\n",
      "a) It will normally be used when double waved yellow flags are needed on any section\n",
      "of track and Competitors or officials may be in danger, but the circumstances are\n",
      "not such as to warrant use of the safety car itself.\n",
      "\n",
      "**56.2 When the order is given to initiate the VSC procedure a message “VSC DEPLOYED” will**\n",
      "When the clerk of the course decides it is safe to call in the safety car, the message\n",
      "“STANDING START” will be sent to all Competitors using the official messaging system,\n",
      "all FIA light panels will display “SS” and the safety car’s orange lights will be\n",
      "extinguished. This will be the signal to the Competitors and drivers that the safety car\n",
      "will be entering the pit lane at the end of that lap.\n",
      "\n"
     ]
    }
   ],
   "source": [
    "print(prompt)"
   ]
  },
  {
   "cell_type": "code",
   "execution_count": 8,
   "metadata": {},
   "outputs": [
    {
     "name": "stderr",
     "output_type": "stream",
     "text": [
      "/var/folders/xz/5j590gfd4bl31sr7hc0k67w00000gn/T/ipykernel_13909/3222236356.py:3: LangChainDeprecationWarning: The class `Ollama` was deprecated in LangChain 0.3.1 and will be removed in 1.0.0. An updated version of the class exists in the :class:`~langchain-ollama package and should be used instead. To use it run `pip install -U :class:`~langchain-ollama` and import as `from :class:`~langchain_ollama import OllamaLLM``.\n",
      "  llm = Ollama(model='llama3.1:8b')\n"
     ]
    }
   ],
   "source": [
    "from langchain.llms import Ollama\n",
    "\n",
    "llm = Ollama(model='llama3.1:8b')\n",
    "answer = llm.invoke(prompt)"
   ]
  },
  {
   "cell_type": "code",
   "execution_count": 9,
   "metadata": {},
   "outputs": [
    {
     "name": "stdout",
     "output_type": "stream",
     "text": [
      "A blue flag is seen or used to warn a driver leaving the pit lane if cars are approaching on the track, in addition to a green light being on.\n"
     ]
    }
   ],
   "source": [
    "print(answer)"
   ]
  },
  {
   "cell_type": "code",
   "execution_count": 10,
   "metadata": {},
   "outputs": [
    {
     "name": "stderr",
     "output_type": "stream",
     "text": [
      "/Users/alletirohanr/Library/Caches/pypoetry/virtualenvs/devday-user-Mow9uqej-py3.12/lib/python3.12/site-packages/tqdm/auto.py:21: TqdmWarning: IProgress not found. Please update jupyter and ipywidgets. See https://ipywidgets.readthedocs.io/en/stable/user_install.html\n",
      "  from .autonotebook import tqdm as notebook_tqdm\n"
     ]
    }
   ],
   "source": [
    "from eval import eval_ragas"
   ]
  },
  {
   "cell_type": "code",
   "execution_count": null,
   "metadata": {},
   "outputs": [],
   "source": []
  },
  {
   "cell_type": "code",
   "execution_count": 11,
   "metadata": {},
   "outputs": [
    {
     "name": "stdout",
     "output_type": "stream",
     "text": [
      "calculating answer_relevancy\n",
      "calculating llm_context_precision_without_reference\n",
      "calculating faithfulness\n"
     ]
    },
    {
     "data": {
      "text/plain": [
       "{'answer_relevancy': 0.8728601334392975,\n",
       " 'llm_context_precision_without_reference': 0.7916666666402777,\n",
       " 'faithfulness': 0.5}"
      ]
     },
     "execution_count": 11,
     "metadata": {},
     "output_type": "execute_result"
    }
   ],
   "source": [
    "\n",
    "eval_ragas({\"question\": question, \"contexts\": results['documents'][0], \"answer\": answer})"
   ]
  }
 ],
 "metadata": {
  "kernelspec": {
   "display_name": "devday-user-Mow9uqej-py3.12",
   "language": "python",
   "name": "python3"
  },
  "language_info": {
   "codemirror_mode": {
    "name": "ipython",
    "version": 3
   },
   "file_extension": ".py",
   "mimetype": "text/x-python",
   "name": "python",
   "nbconvert_exporter": "python",
   "pygments_lexer": "ipython3",
   "version": "3.12.3"
  }
 },
 "nbformat": 4,
 "nbformat_minor": 2
}
